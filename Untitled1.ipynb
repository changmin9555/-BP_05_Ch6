{
  "nbformat": 4,
  "nbformat_minor": 0,
  "metadata": {
    "colab": {
      "provenance": []
    },
    "kernelspec": {
      "name": "python3",
      "display_name": "Python 3"
    },
    "language_info": {
      "name": "python"
    }
  },
  "cells": [
    {
      "cell_type": "markdown",
      "source": [
        "1 2부터 100사이의 모든 짝수를 출력하는 반복루프를 작성한다."
      ],
      "metadata": {
        "id": "HCUXKP9atKyV"
      }
    },
    {
      "cell_type": "code",
      "execution_count": 1,
      "metadata": {
        "colab": {
          "base_uri": "https://localhost:8080/"
        },
        "id": "eT2IwphPsxpy",
        "outputId": "f08da241-1fce-4b56-e2e9-760e8504e185"
      },
      "outputs": [
        {
          "output_type": "stream",
          "name": "stdout",
          "text": [
            "2 4 6 8 10 12 14 16 18 20 22 24 26 28 30 32 34 36 38 40 42 44 46 48 50 52 54 56 58 60 62 64 66 68 70 72 74 76 78 80 82 84 86 88 90 92 94 96 98 100 "
          ]
        }
      ],
      "source": [
        "for i in range(2,101,2):\n",
        "    print(i, end=\" \")"
      ]
    },
    {
      "cell_type": "markdown",
      "source": [
        "2 어띤 사람이 복러이자을 7%로 1000만원을 저금했을 경우에 2000만원이 되는뎨 몇 년\n",
        "이 걸러는지 계산히기 위하여 다움과 코드를 작성하였다. 잘못틘 점은 없는지 쳬크해\n",
        "보자.\n"
      ],
      "metadata": {
        "id": "xlaV-l42tLTz"
      }
    },
    {
      "cell_type": "code",
      "source": [
        "year = 0\n",
        "balance = 1000\n",
        " \n",
        "while balance >= 2000 :\n",
        "    year = year + 1\n",
        "    interest = balance * 0.07\n",
        "    balance = balance + interest\n",
        "print(year, \"년 걸립니다.\")\n"
      ],
      "metadata": {
        "colab": {
          "base_uri": "https://localhost:8080/"
        },
        "id": "l9Dgr-sLtLqk",
        "outputId": "28254118-610a-4343-d2e2-a082b8e27572"
      },
      "execution_count": 2,
      "outputs": [
        {
          "output_type": "stream",
          "name": "stdout",
          "text": [
            "0 년 걸립니다.\n"
          ]
        }
      ]
    },
    {
      "cell_type": "markdown",
      "source": [
        "3 다음코드의 출력을 예상해보자. 각 단계에서 변수의 값을 예상해보시오.\n"
      ],
      "metadata": {
        "id": "zSG1cSfxtMn9"
      }
    },
    {
      "cell_type": "code",
      "source": [
        "n = 1234\n",
        "sum = 0\n",
        "while n > 0 :\n",
        "    digit = n % 10\n",
        "    sum = sum + digit\n",
        "    n = n // 10\n",
        "print(sum)"
      ],
      "metadata": {
        "colab": {
          "base_uri": "https://localhost:8080/"
        },
        "id": "bOsic6DMtNDj",
        "outputId": "6a34451a-d084-4558-dbb3-62e883c692af"
      },
      "execution_count": 6,
      "outputs": [
        {
          "output_type": "stream",
          "name": "stdout",
          "text": [
            "10\n"
          ]
        }
      ]
    },
    {
      "cell_type": "markdown",
      "source": [
        "4 사용자에게 곱셈 퀴즈를 내고 탑을 사용자로부터 받는 프로그램에서 사용자가 올바른\n",
        "답을 업럭할 때까지 반복하도록 수정하여 보자"
      ],
      "metadata": {
        "id": "DnWR_m2ktNSu"
      }
    },
    {
      "cell_type": "code",
      "source": [
        "import random\n",
        " \n",
        "a = random.randint(1,10)\n",
        "b = random.randint(1,10)\n",
        "com = a*b\n",
        " \n",
        "while True:\n",
        "    usr = int(input(str(a) + \"*\" + str(b) + \"는 \"))\n",
        "    if (usr == com):\n",
        "        print(\"맞았습니다.\")\n",
        "        break;"
      ],
      "metadata": {
        "colab": {
          "base_uri": "https://localhost:8080/"
        },
        "id": "nn9lNk5BtNjL",
        "outputId": "9ffb8d5a-c119-4ff5-8558-b804b266d889"
      },
      "execution_count": 5,
      "outputs": [
        {
          "output_type": "stream",
          "name": "stdout",
          "text": [
            "4*2는 8\n",
            "맞았습니다.\n"
          ]
        }
      ]
    },
    {
      "cell_type": "markdown",
      "source": [
        "5 사용자가 입럭한 졍수의 합을 계산하는 프로그렘을 작성하자. 사용쟈7T O을 입럭히기\n",
        "전끼지 정수를 계속하여 얽도록 한다"
      ],
      "metadata": {
        "id": "aKwM6r5itNtz"
      }
    },
    {
      "cell_type": "code",
      "source": [
        "sum = 0\n",
        "while True:\n",
        "    a = int(input(\"정수를 입력하시오: \"))\n",
        "    if (a == 0):\n",
        "        print(\"합은 \", sum, \"입니다.\")\n",
        "        break\n",
        " \n",
        "    sum += a"
      ],
      "metadata": {
        "colab": {
          "base_uri": "https://localhost:8080/"
        },
        "id": "_K-VVrKatOSB",
        "outputId": "324f73af-903d-460b-f116-65531298f4a9"
      },
      "execution_count": 4,
      "outputs": [
        {
          "output_type": "stream",
          "name": "stdout",
          "text": [
            "정수를 입력하시오: 1\n",
            "정수를 입력하시오: 2\n",
            "정수를 입력하시오: 3\n",
            "정수를 입력하시오: 0\n",
            "합은  6 입니다.\n"
          ]
        }
      ]
    },
    {
      "cell_type": "markdown",
      "source": [
        "6 난수생셩 함수를사용하여서 2개의 주사위를텬졌을때 나오는수를다음와같이 출럭\n",
        "하여 보자.\n"
      ],
      "metadata": {
        "id": "7HW87aBptOew"
      }
    },
    {
      "cell_type": "code",
      "source": [
        "import random\n",
        "\n",
        "count = 0\n",
        "\n",
        "while True:\n",
        "    i = random.randint(1, 7)\n",
        "    j = random.randint(1, 7)\n",
        "    print(\"첫 번째 주사위 : \", i, \"두 번째 주사위 : \", j)\n",
        "    count += 1\n",
        "    if(count == 5):\n",
        "        break"
      ],
      "metadata": {
        "colab": {
          "base_uri": "https://localhost:8080/"
        },
        "id": "YWmrpkDmtOu_",
        "outputId": "2fed3e2e-5522-4e4a-f970-7d0a8a0361bb"
      },
      "execution_count": 3,
      "outputs": [
        {
          "output_type": "stream",
          "name": "stdout",
          "text": [
            "첫 번째 주사위 :  1 두 번째 주사위 :  7\n",
            "첫 번째 주사위 :  4 두 번째 주사위 :  3\n",
            "첫 번째 주사위 :  6 두 번째 주사위 :  1\n",
            "첫 번째 주사위 :  6 두 번째 주사위 :  2\n",
            "첫 번째 주사위 :  7 두 번째 주사위 :  4\n"
          ]
        }
      ]
    },
    {
      "cell_type": "markdown",
      "source": [
        "7 터틀그래퍽과뱐복을사용하여 눈모양을그러보자.\n"
      ],
      "metadata": {
        "id": "3K1NU4bPtO8z"
      }
    },
    {
      "cell_type": "code",
      "source": [
        "import turtle\n",
        "t = turtle.Turtle()\n",
        "t.shape(\"turtle\")\n",
        "t.left(90)\n",
        "for i in range (1,7):\n",
        " t.forward(100)\n",
        " t.forward(-30)\n",
        " t.left(60)\n",
        " t.forward(30)\n",
        " t.forward(-30)\n",
        " t.right(120)\n",
        " t.forward(30)\n",
        " t.forward(-30)\n",
        " t.left(60)\n",
        " t.forward(-70)\n",
        " t.left(60)"
      ],
      "metadata": {
        "id": "e2UEp4C4tPL6"
      },
      "execution_count": null,
      "outputs": []
    },
    {
      "cell_type": "markdown",
      "source": [
        "8 우리는 이번 장에서 터틀 그래퍽으로 별을 그려보았다 이 코드를 웅용하여서 다옴과\n",
        "같이 10개의 별을 그러는 프로그랩을 작성하라 별들은 시작 각도가 약간씩 다르다.\n"
      ],
      "metadata": {
        "id": "rCmvRrUztPYi"
      }
    },
    {
      "cell_type": "code",
      "source": [
        "import turtle\n",
        "myPen = turtle.Turtle()\n",
        "myPen.speed(0)\n",
        "myPen.color(\"#FF0000\")\n",
        "for j in range (1,10):\n",
        " for i in range (1,6):\n",
        "  myPen.left(144)\n",
        "  myPen.forward(200)\n",
        " myPen.left(10)"
      ],
      "metadata": {
        "id": "H2TCDFYxtPzl"
      },
      "execution_count": null,
      "outputs": []
    },
    {
      "cell_type": "markdown",
      "source": [
        "9 반복과 난수를 함께 사용하면 화면에 랜덤한 원을 그릴 수 있다. 화면에 10개의 랜텀한\n",
        "원을 그러는 프로그랩을 작셩하라 원의 중심과 반지름이 모두 난수이어야 한다"
      ],
      "metadata": {
        "id": "XVopQeymtQDC"
      }
    },
    {
      "cell_type": "code",
      "source": [
        "import random\n",
        "import turtle\n",
        "t = turtle.Turtle()\n",
        "t.shape(\"turtle\")\n",
        "for i in range(1,10):\n",
        "    x = random.randint(-200, 200)\n",
        "    y = random.randint(-200, 200)\n",
        "    z = random.randint(10, 200)\n",
        "    t.up()\n",
        "    t.goto(x, y)\n",
        "    t.down()\n",
        "    t.circle(r);"
      ],
      "metadata": {
        "id": "LgU_ShNstQZl"
      },
      "execution_count": null,
      "outputs": []
    },
    {
      "cell_type": "markdown",
      "source": [
        "10 다옴와 같이 거븍이를 왕복 달러기시키는 프로그램을 작성해보자"
      ],
      "metadata": {
        "id": "cl0CA_EptQkg"
      }
    },
    {
      "cell_type": "code",
      "source": [
        "import turtle\n",
        "t = turtle.Turtle()\n",
        "t.shape(\"turtle\")\n",
        "for i in range(5):\n",
        " t.forward(200);\n",
        " t.right(90)\n",
        " t.forward(20);\n",
        " t.right(90)\n",
        " t.forward(200);\n",
        " t.left(90)\n",
        " t.forward(20);\n",
        " t.left(90)\n"
      ],
      "metadata": {
        "id": "ptIUBfJqtQ-8"
      },
      "execution_count": null,
      "outputs": []
    },
    {
      "cell_type": "markdown",
      "source": [
        "11 다옴의 터를 그래퍽 프로그랩을 분셕해보자 학습하지 않은 함수가 있다면 인터넷에서\n",
        "조사하여 보자.\n"
      ],
      "metadata": {
        "id": "4qp4U-p-tRUJ"
      }
    },
    {
      "cell_type": "code",
      "source": [
        "import turtle\n",
        "t = turtle.Turtle()\n",
        "t.shape(\"turtle\")\n",
        "t.color('red', 'yellow')\n",
        "t.begin_fill()\n",
        "while True:\n",
        " t.forward(200)\n",
        " t.left(170)\n",
        " if abs(t.pos()) < 1:\n",
        "  break\n",
        "t.end_fill()\n"
      ],
      "metadata": {
        "id": "V3lZEL5gtRo7"
      },
      "execution_count": null,
      "outputs": []
    },
    {
      "cell_type": "markdown",
      "source": [
        "12 터틀 그래퍽과 뱐복을 사용하여 싸인(sine) 그래프를 그러보자 거북이를 싸인값에 따라\n",
        "서 움직이면 된다"
      ],
      "metadata": {
        "id": "oceTMr8otwdz"
      }
    },
    {
      "cell_type": "code",
      "source": [
        "import turtle\n",
        "import math\n",
        "t= turtle.Turtle()\n",
        "t.shape(\"turtle\")\n",
        "t.color('red', 'yellow')\n",
        "for x in range(0, 360):\n",
        " t.goto(x,200*math.sin(x*3.14/180))"
      ],
      "metadata": {
        "id": "NGirY6p5twyV"
      },
      "execution_count": null,
      "outputs": []
    }
  ]
}